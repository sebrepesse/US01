{
 "cells": [
  {
   "cell_type": "markdown",
   "metadata": {},
   "source": [
    "## US01 - Introduction to Machine Learning ##"
   ]
  },
  {
   "cell_type": "code",
   "execution_count": 35,
   "metadata": {},
   "outputs": [],
   "source": [
    "import pandas as pd\n",
    "import matplotlib.pyplot as plt\n",
    "import numpy as np"
   ]
  },
  {
   "cell_type": "code",
   "execution_count": 36,
   "metadata": {},
   "outputs": [],
   "source": [
    "data = pd.read_csv('UTSEUS-anjuke-real-estate-baoshan.csv')"
   ]
  },
  {
   "cell_type": "code",
   "execution_count": 37,
   "metadata": {},
   "outputs": [],
   "source": [
    "X = data[['longitude', 'latitude', 'bedroom', 'room', 'surface']]\n",
    "Y = data['onesquaremeter']"
   ]
  },
  {
   "cell_type": "code",
   "execution_count": 38,
   "metadata": {},
   "outputs": [],
   "source": [
    "from sklearn.preprocessing import MinMaxScaler\n",
    "X = MinMaxScaler().fit_transform(X)"
   ]
  },
  {
   "cell_type": "code",
   "execution_count": null,
   "metadata": {},
   "outputs": [],
   "source": [
    "X"
   ]
  },
  {
   "cell_type": "code",
   "execution_count": 39,
   "metadata": {},
   "outputs": [],
   "source": [
    "Z = pd.DataFrame.copy(Y)\n",
    "Z[Y <= np.quantile(Y,0.25)] = 0\n",
    "Z[(Y > np.quantile(Y,0.25)) & (Y <= np.quantile(Y,0.5))] = 1\n",
    "Z[(Y > np.quantile(Y,0.5)) & (Y <= np.quantile(Y,0.75))] = 2\n",
    "Z[Y > np.quantile(Y,0.75)] = 3"
   ]
  },
  {
   "cell_type": "code",
   "execution_count": null,
   "metadata": {},
   "outputs": [],
   "source": [
    "Z"
   ]
  },
  {
   "cell_type": "code",
   "execution_count": 41,
   "metadata": {},
   "outputs": [],
   "source": [
    "from sklearn.model_selection import train_test_split\n",
    "X_train, X_test, Z_train, Z_test = train_test_split(X, Z, test_size=0.33, random_state=42)"
   ]
  },
  {
   "cell_type": "code",
   "execution_count": null,
   "metadata": {
    "jupyter": {
     "source_hidden": true
    }
   },
   "outputs": [],
   "source": [
    "from sklearn.model_selection import GridSearchCV\n",
    "from sklearn.svm import LinearSVC\n",
    "t = time.time()\n",
    "param_grid = {'C': [0.1, 1, 10, 100]}\n",
    "search = GridSearchCV(LinearSVC(), param_grid, cv=5)\n",
    "search.fit(X_train, Z_train)\n",
    "time.time()-t"
   ]
  },
  {
   "cell_type": "code",
   "execution_count": 77,
   "metadata": {},
   "outputs": [
    {
     "data": {
      "text/plain": [
       "39.78092074394226"
      ]
     },
     "execution_count": 77,
     "metadata": {},
     "output_type": "execute_result"
    }
   ],
   "source": [
    "from sklearn.model_selection import GridSearchCV\n",
    "from sklearn.ensemble import AdaBoostClassifier\n",
    "t = time.time()\n",
    "param_grid = {'n_estimators': [100, 200, 300, 500]}\n",
    "clf = AdaBoostClassifier()\n",
    "search = GridSearchCV(clf, param_grid, cv=5)\n",
    "search.fit(X_train, Z_train)\n",
    "time.time()-t"
   ]
  },
  {
   "cell_type": "code",
   "execution_count": 78,
   "metadata": {},
   "outputs": [
    {
     "data": {
      "text/plain": [
       "AdaBoostClassifier(algorithm='SAMME.R', base_estimator=None, learning_rate=1.0,\n",
       "                   n_estimators=500, random_state=None)"
      ]
     },
     "execution_count": 78,
     "metadata": {},
     "output_type": "execute_result"
    }
   ],
   "source": [
    "search.best_estimator_"
   ]
  },
  {
   "cell_type": "code",
   "execution_count": 79,
   "metadata": {},
   "outputs": [
    {
     "data": {
      "text/plain": [
       "0.6116315378610461"
      ]
     },
     "execution_count": 79,
     "metadata": {},
     "output_type": "execute_result"
    }
   ],
   "source": [
    "search.best_score_"
   ]
  },
  {
   "cell_type": "code",
   "execution_count": 80,
   "metadata": {},
   "outputs": [
    {
     "data": {
      "text/plain": [
       "AdaBoostClassifier(algorithm='SAMME.R', base_estimator=None, learning_rate=1.0,\n",
       "                   n_estimators=500, random_state=None)"
      ]
     },
     "execution_count": 80,
     "metadata": {},
     "output_type": "execute_result"
    }
   ],
   "source": [
    "clf = AdaBoostClassifier(n_estimators=500)\n",
    "clf.fit(X_train, Z_train)"
   ]
  },
  {
   "cell_type": "code",
   "execution_count": 81,
   "metadata": {},
   "outputs": [],
   "source": [
    "Z_pred = clf.predict(X_test)"
   ]
  },
  {
   "cell_type": "code",
   "execution_count": 74,
   "metadata": {},
   "outputs": [
    {
     "data": {
      "text/plain": [
       "32876    0.0\n",
       "6072     2.0\n",
       "17935    3.0\n",
       "1513     3.0\n",
       "10389    3.0\n",
       "7524     2.0\n",
       "3922     3.0\n",
       "16495    0.0\n",
       "28908    3.0\n",
       "20405    1.0\n",
       "28382    1.0\n",
       "33125    0.0\n",
       "22537    3.0\n",
       "5327     2.0\n",
       "18238    1.0\n",
       "18085    2.0\n",
       "12555    0.0\n",
       "3397     3.0\n",
       "5282     1.0\n",
       "34106    0.0\n",
       "13328    0.0\n",
       "10949    2.0\n",
       "200      3.0\n",
       "18360    1.0\n",
       "19283    2.0\n",
       "2071     3.0\n",
       "27031    2.0\n",
       "21989    1.0\n",
       "13399    0.0\n",
       "2133     3.0\n",
       "        ... \n",
       "16215    0.0\n",
       "23134    2.0\n",
       "21286    2.0\n",
       "3302     2.0\n",
       "18362    2.0\n",
       "4465     2.0\n",
       "23920    2.0\n",
       "27311    2.0\n",
       "3974     2.0\n",
       "31842    1.0\n",
       "18417    3.0\n",
       "9520     3.0\n",
       "25877    2.0\n",
       "17512    0.0\n",
       "1775     3.0\n",
       "25608    0.0\n",
       "32041    0.0\n",
       "5508     3.0\n",
       "19573    0.0\n",
       "30695    1.0\n",
       "3877     3.0\n",
       "5493     2.0\n",
       "17291    0.0\n",
       "10193    3.0\n",
       "32086    0.0\n",
       "21353    2.0\n",
       "24479    3.0\n",
       "57       1.0\n",
       "34053    0.0\n",
       "23663    0.0\n",
       "Name: onesquaremeter, Length: 11358, dtype: float64"
      ]
     },
     "execution_count": 74,
     "metadata": {},
     "output_type": "execute_result"
    }
   ],
   "source": [
    "Z_test"
   ]
  },
  {
   "cell_type": "code",
   "execution_count": 70,
   "metadata": {},
   "outputs": [],
   "source": [
    "ZZ = Z_test.to_numpy()"
   ]
  },
  {
   "cell_type": "code",
   "execution_count": 71,
   "metadata": {},
   "outputs": [
    {
     "data": {
      "text/plain": [
       "array([0., 2., 3., ..., 1., 0., 0.])"
      ]
     },
     "execution_count": 71,
     "metadata": {},
     "output_type": "execute_result"
    }
   ],
   "source": [
    "ZZ"
   ]
  },
  {
   "cell_type": "code",
   "execution_count": 44,
   "metadata": {},
   "outputs": [
    {
     "data": {
      "text/plain": [
       "0.5940306391970417"
      ]
     },
     "execution_count": 44,
     "metadata": {},
     "output_type": "execute_result"
    }
   ],
   "source": [
    "np.mean(Z_pred == Z_test)"
   ]
  },
  {
   "cell_type": "code",
   "execution_count": 82,
   "metadata": {},
   "outputs": [
    {
     "data": {
      "text/plain": [
       "array([[2020.,  435.,  260.,  168.],\n",
       "       [ 528., 1638.,  635.,   96.],\n",
       "       [ 229.,  600., 1443.,  632.],\n",
       "       [  50.,  174.,  528., 1922.]])"
      ]
     },
     "execution_count": 82,
     "metadata": {},
     "output_type": "execute_result"
    }
   ],
   "source": [
    "conf_matrix = np.zeros((4,4))\n",
    "for k in range(len(Z_pred)):\n",
    "    conf_matrix[int(Z_pred[k]), int(ZZ[k])]+=1\n",
    "conf_matrix"
   ]
  },
  {
   "cell_type": "code",
   "execution_count": 86,
   "metadata": {},
   "outputs": [
    {
     "data": {
      "text/plain": [
       "0.018698578908002993"
      ]
     },
     "execution_count": 86,
     "metadata": {},
     "output_type": "execute_result"
    }
   ],
   "source": [
    "conf_matrix[3,0]/np.sum(conf_matrix[3,:])"
   ]
  },
  {
   "cell_type": "code",
   "execution_count": 10,
   "metadata": {},
   "outputs": [
    {
     "name": "stderr",
     "output_type": "stream",
     "text": [
      "C:\\Users\\xuphilip\\Anaconda3\\lib\\site-packages\\sklearn\\svm\\base.py:929: ConvergenceWarning: Liblinear failed to converge, increase the number of iterations.\n",
      "  \"the number of iterations.\", ConvergenceWarning)\n"
     ]
    },
    {
     "data": {
      "text/plain": [
       "4.23961615562439"
      ]
     },
     "execution_count": 10,
     "metadata": {},
     "output_type": "execute_result"
    }
   ],
   "source": [
    "import time\n",
    "from sklearn.svm import LinearSVC\n",
    "from sklearn.model_selection import cross_val_score\n",
    "clf = LinearSVC()\n",
    "# scores = cross_val_score(clf, X_train, Z_train, cv=5)\n",
    "t = time.time()\n",
    "clf.fit(X_train, Z_train)\n",
    "time.time()-t"
   ]
  },
  {
   "cell_type": "code",
   "execution_count": null,
   "metadata": {},
   "outputs": [],
   "source": []
  },
  {
   "cell_type": "code",
   "execution_count": 88,
   "metadata": {},
   "outputs": [
    {
     "data": {
      "text/plain": [
       "0.7955839628123185"
      ]
     },
     "execution_count": 88,
     "metadata": {},
     "output_type": "execute_result"
    }
   ],
   "source": [
    "from sklearn.model_selection import cross_val_score\n",
    "from sklearn.model_selection import ShuffleSplit\n",
    "clf = tree.DecisionTreeClassifier(max_depth=5)\n",
    "scores = cross_val_score(clf, X, Z, cv=ShuffleSplit(n_splits=5))\n",
    "np.mean(scores)"
   ]
  },
  {
   "cell_type": "code",
   "execution_count": 67,
   "metadata": {},
   "outputs": [
    {
     "data": {
      "text/plain": [
       "[Text(167.4, 181.2, 'X[1] <= 31.348\\nentropy = 0.5\\nsamples = 34416\\nvalue = [16751, 17665]'),\n",
       " Text(83.7, 108.72, 'X[4] <= 77.5\\nentropy = 0.322\\nsamples = 16401\\nvalue = [3306, 13095]'),\n",
       " Text(41.85, 36.23999999999998, 'entropy = 0.405\\nsamples = 8640\\nvalue = [2438, 6202]'),\n",
       " Text(125.55000000000001, 36.23999999999998, 'entropy = 0.199\\nsamples = 7761\\nvalue = [868, 6893]'),\n",
       " Text(251.10000000000002, 108.72, 'X[1] <= 31.405\\nentropy = 0.379\\nsamples = 18015\\nvalue = [13445, 4570]'),\n",
       " Text(209.25, 36.23999999999998, 'entropy = 0.445\\nsamples = 12966\\nvalue = [8626, 4340]'),\n",
       " Text(292.95, 36.23999999999998, 'entropy = 0.087\\nsamples = 5049\\nvalue = [4819, 230]')]"
      ]
     },
     "execution_count": 67,
     "metadata": {},
     "output_type": "execute_result"
    },
    {
     "data": {
      "image/png": "[encoded data removed]",
      "text/plain": [
       "<Figure size 432x288 with 1 Axes>"
      ]
     },
     "metadata": {
      "needs_background": "light"
     },
     "output_type": "display_data"
    }
   ],
   "source": [
    "clf = tree.DecisionTreeClassifier(max_depth=2)\n",
    "clf = clf.fit(X,Z)\n",
    "tree.plot_tree(clf.fit(X,Z))"
   ]
  },
  {
   "cell_type": "code",
   "execution_count": 145,
   "metadata": {},
   "outputs": [
    {
     "data": {
      "text/plain": [
       "GridSearchCV(cv=ShuffleSplit(n_splits=5, random_state=None, test_size=None, train_size=None),\n",
       "             error_score='raise-deprecating',\n",
       "             estimator=DecisionTreeClassifier(class_weight=None,\n",
       "                                              criterion='gini', max_depth=None,\n",
       "                                              max_features=None,\n",
       "                                              max_leaf_nodes=None,\n",
       "                                              min_impurity_decrease=0.0,\n",
       "                                              min_impurity_split=None,\n",
       "                                              min_samples_leaf=1,\n",
       "                                              min_samples_split=2,\n",
       "                                              min_weight_fraction_leaf=0.0,\n",
       "                                              presort=False, random_state=None,\n",
       "                                              splitter='best'),\n",
       "             iid='warn', n_jobs=None,\n",
       "             param_grid={'criterion': ['gini', 'entropy'],\n",
       "                         'max_depth': [2, 4, 6, 8, 10, 20, 40]},\n",
       "             pre_dispatch='2*n_jobs', refit=True, return_train_score=False,\n",
       "             scoring=None, verbose=0)"
      ]
     },
     "execution_count": 145,
     "metadata": {},
     "output_type": "execute_result"
    }
   ],
   "source": [
    "from sklearn.model_selection import GridSearchCV\n",
    "param_grid = {'max_depth': [2, 4, 6, 8, 10, 20, 40], 'criterion': ['gini', 'entropy']}\n",
    "search = GridSearchCV(tree.DecisionTreeClassifier(), param_grid, cv=ShuffleSplit(n_splits=5))\n",
    "search.fit(X, Z)"
   ]
  },
  {
   "cell_type": "code",
   "execution_count": 146,
   "metadata": {},
   "outputs": [
    {
     "data": {
      "text/plain": [
       "{'criterion': 'gini', 'max_depth': 20}"
      ]
     },
     "execution_count": 146,
     "metadata": {},
     "output_type": "execute_result"
    }
   ],
   "source": [
    "search.best_estimator_\n",
    "search.best_params_"
   ]
  },
  {
   "cell_type": "code",
   "execution_count": 108,
   "metadata": {},
   "outputs": [
    {
     "data": {
      "text/plain": [
       "0.8735618826263799"
      ]
     },
     "execution_count": 108,
     "metadata": {},
     "output_type": "execute_result"
    }
   ],
   "source": [
    "clf = tree.DecisionTreeClassifier(max_depth=20)\n",
    "scores = cross_val_score(clf, X, Z, cv=ShuffleSplit(n_splits=5))\n",
    "np.mean(scores)"
   ]
  },
  {
   "cell_type": "code",
   "execution_count": 109,
   "metadata": {},
   "outputs": [],
   "source": [
    "clf = tree.DecisionTreeClassifier(max_depth=20)\n",
    "clf = clf.fit(X,Z)"
   ]
  },
  {
   "cell_type": "code",
   "execution_count": 115,
   "metadata": {},
   "outputs": [
    {
     "data": {
      "text/plain": [
       "0.7431725740848344"
      ]
     },
     "execution_count": 115,
     "metadata": {},
     "output_type": "execute_result"
    }
   ],
   "source": [
    "from sklearn.preprocessing import MinMaxScaler\n",
    "X = MinMaxScaler().fit_transform(X)\n",
    "\n",
    "from sklearn import svm\n",
    "param_grid = {'C': [1, 10, 100, 1000], 'gamma': [0.001, 0.0001], 'kernel': ['rbf']}\n",
    "search = GridSearchCV(svm.SVC(), param_grid, cv=ShuffleSplit(n_splits=5))\n",
    "search.fit(X, Z)\n",
    "search.best_estimator_\n",
    "search.best_score_"
   ]
  }
 ],
 "metadata": {
  "kernelspec": {
   "display_name": "Python 3",
   "language": "python",
   "name": "python3"
  },
  "language_info": {
   "codemirror_mode": {
    "name": "ipython",
    "version": 3
   },
   "file_extension": ".py",
   "mimetype": "text/x-python",
   "name": "python",
   "nbconvert_exporter": "python",
   "pygments_lexer": "ipython3",
   "version": "3.7.3"
  }
 },
 "nbformat": 4,
 "nbformat_minor": 4
}
