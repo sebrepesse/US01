{
 "cells": [
  {
   "cell_type": "markdown",
   "metadata": {},
   "source": [
    "# Memo HACKATHON"
   ]
  },
  {
   "cell_type": "markdown",
   "metadata": {},
   "source": [
    "### First Part - Collect DATAS"
   ]
  },
  {
   "cell_type": "code",
   "execution_count": null,
   "metadata": {},
   "outputs": [],
   "source": [
    "#Open datas as excel\n",
    "import pandas as pd\n",
    "df = pd.read_excel('NOM', header=2, index_col=0)\n",
    "#Open datas as csv\n",
    "df = pd.read_csv('NOM', header=2, index_col=0)"
   ]
  },
  {
   "cell_type": "code",
   "execution_count": null,
   "metadata": {},
   "outputs": [],
   "source": [
    "#Isolate datas between intervals\n",
    "df = df[(df['start_location_x'] >= value1) & (df['start_location_x'] <= value2) \n",
    "#plot a graph with points\n",
    "df.plot.scatter(x='start_location_x', y='start_location_y')"
   ]
  },
  {
   "cell_type": "markdown",
   "metadata": {},
   "source": [
    "### Second Part - Clean datas"
   ]
  },
  {
   "cell_type": "code",
   "execution_count": null,
   "metadata": {},
   "outputs": [],
   "source": [
    "#clean text\n",
    "translate_table_punc = dict((ord(char),u' ') for char in string.punctuation)\n",
    "translate_table_digits = dict((ord(char),None) for char in string.digits)\n",
    "#print(translate_table_punc)\n",
    "\n",
    "stops = set(stopwords.words('english'))\n",
    "\n",
    "def remove_html(text):\n",
    "    return BeautifulSoup(text,'lxml').get_text()\n",
    "    \n",
    "def remove_punctuation_and_digits(text):\n",
    "    text = text.translate(translate_table_punc).lower()\n",
    "    text = text.translate(translate_table_digits)\n",
    "    return (text)\n",
    "\n",
    "def tokenize(text):\n",
    "    return nltk.tokenize.casual_tokenize(text)\n",
    "\n",
    "def stop_words(text):\n",
    "    return [w for w in words if w not in stops]\n",
    "    \n",
    "for i,v in gdf['description'].sample(n=200).dropna().iteritems():\n",
    "    text = remove_html(v)\n",
    "    text = remove_punctuation_and_digits(text)\n",
    "    words = tokenize(text)\n",
    "    words = stop_words(words)\n",
    "    print(text)"
   ]
  },
  {
   "cell_type": "markdown",
   "metadata": {},
   "source": [
    "# IDEAS FOR HACKATHON"
   ]
  },
  {
   "cell_type": "markdown",
   "metadata": {},
   "source": [
    "#### Surroundings and beauty and cleanliness "
   ]
  },
  {
   "cell_type": "markdown",
   "metadata": {},
   "source": [
    "- Green space\n",
    "- River, lake\n",
    "- Point of interest\n",
    "- How many photos on these places (instagram, QQ, ...)\n",
    "- Industries next \n",
    "- Price of accomodation\n",
    "- Stadium / sports\n",
    "- School\n",
    "- Restaurant\n",
    "- Pickup box (Taobao)\n",
    "- Bikes and public transport\n",
    "- Supermarket\n",
    "- CCTV = feeling of security\n",
    "- "
   ]
  },
  {
   "cell_type": "markdown",
   "metadata": {},
   "source": [
    "#### Noise"
   ]
  },
  {
   "cell_type": "markdown",
   "metadata": {},
   "source": [
    "- Industries \n",
    "- Night clubs / Bar \n",
    "- Highways\n",
    "- Tourist spots \n",
    "- Construction and public work\n",
    "- Air quality\n",
    "- Number of bikes means less car\n",
    "- Public transport means less car\n",
    "- Stadium\n",
    "- School with the noise of the children\n",
    "- Nombre de borne de recharge electric car means less noise\n",
    "- Supermarket\n",
    "- "
   ]
  },
  {
   "cell_type": "markdown",
   "metadata": {},
   "source": [
    "#### Smell, odor"
   ]
  },
  {
   "cell_type": "markdown",
   "metadata": {},
   "source": [
    "- Restaurant (Rate on Dianping)\n",
    "- Industries\n",
    "- Air quality\n",
    "- Cars\n",
    "- Trash\n",
    "- Supermarket\n",
    "- number of accomodation means more trash\n",
    "- "
   ]
  },
  {
   "cell_type": "markdown",
   "metadata": {},
   "source": [
    "#### Ideas of project"
   ]
  },
  {
   "cell_type": "markdown",
   "metadata": {},
   "source": [
    "Application to help people to choose the best district \"quartier\" of a city depending on different choices\n",
    "for example when you arrive on the app you have to answer to different questions on your personnality and what you like to do \n",
    "The goal will be to highligh the best place to live for you and it'll help to improve the happiness of the city because you'll be at the place that corresponds the most depending on your personnality and on your life"
   ]
  }
 ],
 "metadata": {
  "kernelspec": {
   "display_name": "Python 3",
   "language": "python",
   "name": "python3"
  },
  "language_info": {
   "codemirror_mode": {
    "name": "ipython",
    "version": 3
   },
   "file_extension": ".py",
   "mimetype": "text/x-python",
   "name": "python",
   "nbconvert_exporter": "python",
   "pygments_lexer": "ipython3",
   "version": "3.7.3"
  }
 },
 "nbformat": 4,
 "nbformat_minor": 4
}
