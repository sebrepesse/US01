{
 "cells": [
  {
   "cell_type": "code",
   "execution_count": 1,
   "metadata": {},
   "outputs": [],
   "source": [
    "import pandas as pd"
   ]
  },
  {
   "cell_type": "markdown",
   "metadata": {},
   "source": [
    "## Data Collection"
   ]
  },
  {
   "cell_type": "code",
   "execution_count": 2,
   "metadata": {},
   "outputs": [],
   "source": [
    "df_poi_per_district = pd.read_pickle(\"./pickles/savedDF_POI_per_district.pickle\")"
   ]
  },
  {
   "cell_type": "code",
   "execution_count": 3,
   "metadata": {},
   "outputs": [],
   "source": [
    "df_result_taxi = pd.read_pickle(\"./pickles/savedDF_taxi_per_district.pkl\")"
   ]
  },
  {
   "cell_type": "code",
   "execution_count": 4,
   "metadata": {},
   "outputs": [],
   "source": [
    "df_green_spaces = pd.read_pickle(\"./pickles/savedDF_green_spaces.pkl\")"
   ]
  },
  {
   "cell_type": "code",
   "execution_count": 5,
   "metadata": {},
   "outputs": [],
   "source": [
    "df_mobike = pd.read_pickle(\"./pickles/savedDF_mobike.pkl\")"
   ]
  },
  {
   "cell_type": "code",
   "execution_count": 6,
   "metadata": {},
   "outputs": [],
   "source": [
    "df_poi_per_district['Taxi'] = df_result_taxi['nb_taxi']\n",
    "df_poi_per_district['Green_spaces'] = df_green_spaces['green_area_proportion']\n",
    "df_poi_per_district['mobike'] = df_mobike['nb_mobike']"
   ]
  },
  {
   "cell_type": "code",
   "execution_count": 7,
   "metadata": {},
   "outputs": [],
   "source": [
    "target = pd.read_pickle(\"./pickles/TARGET-communities-extract-wellbeing.pkl\")\n",
    "header = target[0]\n",
    "df_target = pd.DataFrame(data=target, columns=header)\n",
    "#df_target.head()"
   ]
  },
  {
   "cell_type": "code",
   "execution_count": 8,
   "metadata": {},
   "outputs": [],
   "source": [
    "df_target = df_target.drop(df_target.index[0])"
   ]
  },
  {
   "cell_type": "markdown",
   "metadata": {},
   "source": [
    "# Conversion"
   ]
  },
  {
   "cell_type": "code",
   "execution_count": 9,
   "metadata": {},
   "outputs": [],
   "source": [
    "df_target = df_target[df_target['clean']!= '']\n",
    "df_target = df_target[df_target['smell']!= '']\n",
    "df_target = df_target[df_target['noise']!= '']\n",
    "df_target = df_target[df_target['longitude']!= '']\n",
    "df_target = df_target[df_target['latitude']!= '']\n",
    "\n",
    "\n",
    "df_target['clean'] = df_target['clean'].apply(lambda x: float(x))\n",
    "df_target['smell'] = df_target['smell'].apply(lambda x: float(x))\n",
    "df_target['noise'] = df_target['noise'].apply(lambda x: float(x))\n",
    "df_target['longitude'] = df_target['longitude'].apply(lambda x: float(x))\n",
    "df_target['latitude'] = df_target['latitude'].apply(lambda x: float(x))"
   ]
  },
  {
   "cell_type": "code",
   "execution_count": 10,
   "metadata": {},
   "outputs": [],
   "source": [
    "df_target['smell'] = df_target['smell'].apply(lambda x: 1 if x==0  else 0)\n",
    "df_target['noise'] = df_target['noise'].apply(lambda x: 1 if x==0  else 0)\n",
    "#df_target.head()"
   ]
  },
  {
   "cell_type": "code",
   "execution_count": 11,
   "metadata": {},
   "outputs": [],
   "source": [
    "df_target['mean'] = (df_target['clean']*1 + df_target['noise']*1+ df_target['smell']*1)/3\n",
    "#df_target.head()"
   ]
  },
  {
   "cell_type": "markdown",
   "metadata": {},
   "source": [
    "# Point geo pour chaque lieux"
   ]
  },
  {
   "cell_type": "code",
   "execution_count": 12,
   "metadata": {},
   "outputs": [],
   "source": [
    "from shapely.geometry import Point # Shapely for converting latitude/longtitude to geometry\n",
    "import geopandas as gpd"
   ]
  },
  {
   "cell_type": "code",
   "execution_count": 13,
   "metadata": {},
   "outputs": [],
   "source": [
    "df_ML = df_target[['mean','longitude','latitude']]"
   ]
  },
  {
   "cell_type": "code",
   "execution_count": 14,
   "metadata": {},
   "outputs": [],
   "source": [
    "geometry = [Point(xy) for xy in zip(df_ML['longitude'], df_ML['latitude'])]"
   ]
  },
  {
   "cell_type": "code",
   "execution_count": 15,
   "metadata": {},
   "outputs": [
    {
     "name": "stderr",
     "output_type": "stream",
     "text": [
      "C:\\Users\\sebr\\Anaconda3\\lib\\site-packages\\ipykernel_launcher.py:1: SettingWithCopyWarning: \n",
      "A value is trying to be set on a copy of a slice from a DataFrame.\n",
      "Try using .loc[row_indexer,col_indexer] = value instead\n",
      "\n",
      "See the caveats in the documentation: http://pandas.pydata.org/pandas-docs/stable/indexing.html#indexing-view-versus-copy\n",
      "  \"\"\"Entry point for launching an IPython kernel.\n"
     ]
    }
   ],
   "source": [
    "df_ML['geometry'] = geometry"
   ]
  },
  {
   "cell_type": "code",
   "execution_count": 16,
   "metadata": {},
   "outputs": [],
   "source": [
    "#df_ML.head()"
   ]
  },
  {
   "cell_type": "code",
   "execution_count": 17,
   "metadata": {},
   "outputs": [],
   "source": [
    "gdf = gpd.GeoDataFrame(df_ML, geometry=df_ML.geometry)"
   ]
  },
  {
   "cell_type": "code",
   "execution_count": 18,
   "metadata": {},
   "outputs": [],
   "source": [
    "#gdf.plot()"
   ]
  },
  {
   "cell_type": "markdown",
   "metadata": {},
   "source": [
    "## Check if the point is included in polygon"
   ]
  },
  {
   "cell_type": "code",
   "execution_count": 19,
   "metadata": {},
   "outputs": [],
   "source": [
    "happiness = {}\n",
    "total = 0\n",
    "sum_mean = 0\n",
    "for index, polygon in df_poi_per_district['geometry'].items():\n",
    "    for mean, point in zip(df_ML['mean'], df_ML['geometry']):\n",
    "        if point.within(polygon) == True:\n",
    "            sum_mean += mean\n",
    "            total += 1\n",
    "    if total != 0 : \n",
    "        happiness[index] = sum_mean/total\n",
    "    else:\n",
    "        happiness[index] = 0\n",
    "    sum_mean = 0\n",
    "    total = 0"
   ]
  },
  {
   "cell_type": "code",
   "execution_count": 20,
   "metadata": {},
   "outputs": [],
   "source": [
    "df_poi_per_district['happiness'] = happiness.values()"
   ]
  },
  {
   "cell_type": "code",
   "execution_count": 21,
   "metadata": {},
   "outputs": [],
   "source": [
    "#df_poi_per_district"
   ]
  },
  {
   "cell_type": "code",
   "execution_count": 22,
   "metadata": {},
   "outputs": [
    {
     "data": {
      "text/plain": [
       "Index(['NAME', 'TYPE', 'geometry', 'restaurant', 'Bicycle_park', 'Bus',\n",
       "       'Railway_station_entrance_exit', 'Convenience Store', 'Scenic_spot',\n",
       "       'Sport', 'Taxi', 'Green_spaces', 'mobike', 'happiness'],\n",
       "      dtype='object')"
      ]
     },
     "execution_count": 22,
     "metadata": {},
     "output_type": "execute_result"
    }
   ],
   "source": [
    "df_poi_per_district.columns"
   ]
  },
  {
   "cell_type": "markdown",
   "metadata": {},
   "source": [
    "## Scale the datas"
   ]
  },
  {
   "cell_type": "code",
   "execution_count": 23,
   "metadata": {},
   "outputs": [],
   "source": [
    "from sklearn.preprocessing import StandardScaler\n",
    "scaler = StandardScaler()\n",
    "df_poi_per_district['restaurant_scale'] = scaler.fit_transform(df_poi_per_district[['restaurant']])\n",
    "df_poi_per_district['Bicycle_park_scale'] = scaler.fit_transform(df_poi_per_district[['Bicycle_park']])\n",
    "df_poi_per_district['Bus_scale'] = scaler.fit_transform(df_poi_per_district[['Bus']])\n",
    "df_poi_per_district['Railway_scale'] = scaler.fit_transform(df_poi_per_district[['Railway_station_entrance_exit']])\n",
    "df_poi_per_district['Convenience_store_scale'] = scaler.fit_transform(df_poi_per_district[['Convenience Store']])\n",
    "df_poi_per_district['Scenic_spot_scale'] = scaler.fit_transform(df_poi_per_district[['Scenic_spot']])\n",
    "df_poi_per_district['Sport_scale'] = scaler.fit_transform(df_poi_per_district[['Sport']])\n",
    "df_poi_per_district['Taxi_scale'] = scaler.fit_transform(df_poi_per_district[['Taxi']])\n",
    "df_poi_per_district['Green_spaces_scale'] = scaler.fit_transform(df_poi_per_district[['Green_spaces']])\n",
    "df_poi_per_district['mobike_scale'] = scaler.fit_transform(df_poi_per_district[['mobike']])"
   ]
  },
  {
   "cell_type": "code",
   "execution_count": 24,
   "metadata": {},
   "outputs": [],
   "source": [
    "df_poi_per_district.to_pickle(\"savedDF_datasets_ML.pkl\")"
   ]
  },
  {
   "cell_type": "code",
   "execution_count": null,
   "metadata": {},
   "outputs": [],
   "source": []
  },
  {
   "cell_type": "code",
   "execution_count": null,
   "metadata": {},
   "outputs": [],
   "source": []
  }
 ],
 "metadata": {
  "kernelspec": {
   "display_name": "Python 3",
   "language": "python",
   "name": "python3"
  },
  "language_info": {
   "codemirror_mode": {
    "name": "ipython",
    "version": 3
   },
   "file_extension": ".py",
   "mimetype": "text/x-python",
   "name": "python",
   "nbconvert_exporter": "python",
   "pygments_lexer": "ipython3",
   "version": "3.7.3"
  }
 },
 "nbformat": 4,
 "nbformat_minor": 4
}
