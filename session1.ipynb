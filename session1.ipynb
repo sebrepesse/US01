{
 "cells": [
  {
   "cell_type": "code",
   "execution_count": 2,
   "metadata": {},
   "outputs": [
    {
     "data": {
      "text/plain": [
       "1                            Afghanistan\n",
       "2                                Albania\n",
       "3                                Armenia\n",
       "4                             Azerbaijan\n",
       "5                                Bahrain\n",
       "6                             Bangladesh\n",
       "7                                Belarus\n",
       "8                                 Bhutan\n",
       "9                 Bosnia and Herzegovina\n",
       "10                                Brunei\n",
       "11                              Bulgaria\n",
       "12                              Cambodia\n",
       "13                                 China\n",
       "14                               Croatia\n",
       "15                        Czech Republic\n",
       "16                            East Timor\n",
       "17                                 Egypt\n",
       "18                               Estonia\n",
       "19                      France (Not BRI)\n",
       "20                               Georgia\n",
       "21                     Germany (not BRI)\n",
       "22                               Hungary\n",
       "23                                 India\n",
       "24                             Indonesia\n",
       "25                                  Iran\n",
       "26                                  Iraq\n",
       "27                                Israel\n",
       "28                                Jordan\n",
       "29                            Kazakhstan\n",
       "30                                Kuwait\n",
       "                     ...                \n",
       "39                               Moldova\n",
       "40                              Mongolia\n",
       "41                            Montenegro\n",
       "42                               Myanmar\n",
       "43                                 Nepal\n",
       "44                                  Oman\n",
       "45                              Pakistan\n",
       "46                           Philippines\n",
       "47                                Poland\n",
       "48                                 Qatar\n",
       "49                               Romania\n",
       "50                                Russia\n",
       "51                          Saudi Arabia\n",
       "52                                Serbia\n",
       "53                             Singapore\n",
       "54                              Slovakia\n",
       "55                              Slovenia\n",
       "56                             Sri Lanka\n",
       "57                                 Syria\n",
       "58                            Tajikistan\n",
       "59                             Thailiand\n",
       "60              The United Arab Emirates\n",
       "61                                Turkey\n",
       "62                          Turkmenistan\n",
       "63              United Kingdom (Not BRI)\n",
       "64    United States of America (Not BRI)\n",
       "65                               Ukraine\n",
       "66                            Uzbekistan\n",
       "67                               Vietnam\n",
       "68                                 Yemen\n",
       "Name: Country (according to CN Gov):, Length: 68, dtype: object"
      ]
     },
     "execution_count": 2,
     "metadata": {},
     "output_type": "execute_result"
    }
   ],
   "source": [
    "import pandas as pd\n",
    "from pandas import ExcelWriter\n",
    "from pandas import ExcelFile\n",
    "\n",
    "df = pd.read_excel('Data-sheet-STUDENTS.xlsx',header=2,index_col=0)\n",
    "df['Country (according to CN Gov):']"
   ]
  },
  {
   "cell_type": "code",
   "execution_count": null,
   "metadata": {},
   "outputs": [],
   "source": []
  },
  {
   "cell_type": "code",
   "execution_count": null,
   "metadata": {},
   "outputs": [],
   "source": []
  },
  {
   "cell_type": "code",
   "execution_count": null,
   "metadata": {},
   "outputs": [],
   "source": []
  },
  {
   "cell_type": "code",
   "execution_count": null,
   "metadata": {},
   "outputs": [],
   "source": []
  },
  {
   "cell_type": "code",
   "execution_count": null,
   "metadata": {},
   "outputs": [],
   "source": []
  },
  {
   "cell_type": "code",
   "execution_count": null,
   "metadata": {},
   "outputs": [],
   "source": []
  }
 ],
 "metadata": {
  "kernelspec": {
   "display_name": "Python 3",
   "language": "python",
   "name": "python3"
  },
  "language_info": {
   "codemirror_mode": {
    "name": "ipython",
    "version": 3
   },
   "file_extension": ".py",
   "mimetype": "text/x-python",
   "name": "python",
   "nbconvert_exporter": "python",
   "pygments_lexer": "ipython3",
   "version": "3.7.3"
  }
 },
 "nbformat": 4,
 "nbformat_minor": 4
}
